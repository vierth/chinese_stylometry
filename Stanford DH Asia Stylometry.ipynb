{
 "cells": [
  {
   "cell_type": "markdown",
   "metadata": {},
   "source": [
    "# Digital Humanities Asia Workshop\n",
    "# Stylometerics and Genre Research in Imperial Chinese Studies\n",
    "# Coding for Stylometric Analysis\n",
    "## Paul Vierthaler, Boston College\n",
    "### @pvierth, vierthal@bc.edu"
   ]
  },
  {
   "cell_type": "markdown",
   "metadata": {},
   "source": [
    "# Texts encodings\n",
    "It is important to know the encodings of the files you are working with. This is probably one of the largest difficulties faced by people working with Chinese language texts.\n",
    "\n",
    "## Common encodings\n",
    "Chinese language digital texts coming a variety of encodings\n",
    "\n",
    "### UTF-8\n",
    "This is the easiest to work with. UTF, which stands for Unicode Transformation Format, is an international character set that encodes texts in all languages. It extends the ASCII character set and is the most common encoding on the internet.\n",
    "\n",
    "### GB 2312\n",
    "This was the official character set of the People's Republic of China. It is a simplified character set.\n",
    "\n",
    "### GBK\n",
    "GBK extends GB 2312, adding missing characters.\n",
    "\n",
    "### GB 18030\n",
    "GB 18030 was designed to replace GB 2312 and GBK in 2005. It is a Unicode format but maintains compatibility with GB 2312. It also allows for traditional characters, as it is a Unicode encoding.\n",
    "\n",
    "### Big5\n",
    "Big5 is a traditional Chinese format that is common in Taiwan and Hong Kong.\n",
    "\n",
    "## GB 2312 is still very common.\n",
    "Many websites and texts files containing Chinese text still use GB 2312. \n",
    "\n",
    "## We will generally try to convert texts to UTF-8 if they are not already UTF-8."
   ]
  },
  {
   "cell_type": "markdown",
   "metadata": {},
   "source": [
    "# File Organization\n",
    "If we want to perform Stylometric analysis and compare a variety of texts, it is easiest to ensure that they are all in the same folder. This will allow us to write code that cleans the text and performs the analysis quickly and easily.\n",
    "\n",
    "## Make a Folder for your files.\n",
    "This will need to be in the same folder as this Jupyter notebook. I have provided a collection of files to analyze as part of the workshop. Name the folder something sensible. I have chosen to call the included folder \"corpus.\"\n",
    "\n",
    "## Decide on a way to store metadata.\n",
    "If we want to keep track of information about our texts, we need to decide on a way to do this. I prefer to include a metadata file in the same folder as my Python script that describes each text. Each text is given an idea for a file name. We will use that ID to look up information about the text."
   ]
  },
  {
   "cell_type": "markdown",
   "metadata": {},
   "source": [
    "# Let's code!\n",
    "## Opening a file and reading it to string\n",
    "This is how we will be getting our data into Python."
   ]
  },
  {
   "cell_type": "code",
   "execution_count": 1,
   "metadata": {
    "collapsed": false
   },
   "outputs": [
    {
     "name": "stdout",
     "output_type": "stream",
     "text": [
      "Hi, my name is Paul.\n"
     ]
    }
   ],
   "source": [
    # matplotlib inline is only necessary for this notebook. Do not include in your version.
    "%matplotlib inline\n",
    "\n",
    "my_file = open(\"test.txt\", \"r\")\n",
    "file_contents = my_file.read()\n",
    "print(file_contents)"
   ]
  },
  {
   "cell_type": "markdown",
   "metadata": {
    "collapsed": false
   },
   "source": [
    "## Opening parameters\n",
    "open() takes several parameters. First, the file path then the open mode.\n",
    "\"r\" means read\n",
    "\"w\" means write\n",
    "\"a\" means append\n",
    "\n",
    "## Be careful with \"w\"!\n",
    "If you open a file in write mode, if it exists, the program will wipe the files contents without warning you. If it doesn't exist, it will automatically create the file."
   ]
  },
  {
   "cell_type": "markdown",
   "metadata": {},
   "source": [
    "## Setting the encoding\n",
    "By default, strings in Python3 are Unicode. If the file you are opening is not unicode, you have to tell python. If it is unicode, you don't have to tell it anything"
   ]
  },
  {
   "cell_type": "code",
   "execution_count": 2,
   "metadata": {
    "collapsed": false
   },
   "outputs": [
    {
     "name": "stdout",
     "output_type": "stream",
     "text": [
      "Hi, my name is Paul.\n"
     ]
    }
   ],
   "source": [
    "my_file = open(\"test.txt\", \"r\", encoding=\"utf-8\")\n",
    "file_contents = my_file.read()\n",
    "print(file_contents)"
   ]
  },
  {
   "cell_type": "markdown",
   "metadata": {},
   "source": [
    "## Dealing with Errors\n",
    "When you open many files at once, you will sometimes run in to errors in encoding no matter what you do. You have several options. You can delete the bad character, or replace it with a question mark. The corpus I've provided doesn't have any of these issues, but as you adapt it to run in the wild, you may run in to some issues"
   ]
  },
  {
   "cell_type": "code",
   "execution_count": 3,
   "metadata": {
    "collapsed": false
   },
   "outputs": [
    {
     "name": "stdout",
     "output_type": "stream",
     "text": [
      "Hi, my name is Paul.\n"
     ]
    }
   ],
   "source": [
    "my_file = open(\"test.txt\", \"r\", encoding=\"utf-8\", errors=\"replace\")\n",
    "file_contents = my_file.read()\n",
    "print(file_contents)"
   ]
  },
  {
   "cell_type": "markdown",
   "metadata": {},
   "source": [
    "## Opening multiple files.\n",
    "You don't want to open each file you are interested in one at a time. Here we will import a library that will help us with this and save the contents.\n",
    "On Windows machines you will need specify the encoding of a Chinese text file, even when it is UTF-8."
   ]
  },
  {
   "cell_type": "code",
   "execution_count": 4,
   "metadata": {
    "collapsed": false
   },
   "outputs": [
    {
     "name": "stdout",
     "output_type": "stream",
     "text": [
      "71012\n",
      "104913\n",
      "63995\n",
      "94443\n",
      "336711\n",
      "150174\n",
      "132795\n",
      "934719\n",
      "881302\n",
      "498485\n",
      "729578\n",
      "884885\n",
      "615823\n",
      "398945\n"
     ]
    }
   ],
   "source": [
    "import os\n",
    "\n",
    "for root, dirs, files in os.walk(\"corpus\"):\n",
    "    for filename in files:\n",
    "        # I do not want to open hidden files\n",
    "        if filename[0] != \".\":\n",
    "            # open the file\n",
    "            f = open(root + \"/\" + filename, \"r\", encoding = \"utf8\")\n",
    "            # read the contents to a variable\n",
    "            c = f.read()\n",
    "            # make sure to close the file when you are done\n",
    "            f.close()\n",
    "\n",
    "            # check to see if your code is working\n",
    "            # here I am just printing the length of the string\n",
    "            # printing the string would take up a lot of room.\n",
    "            print(len(c))"
   ]
  },
  {
   "cell_type": "markdown",
   "metadata": {},
   "source": [
    "## Save the information to use later."
   ]
  },
  {
   "cell_type": "markdown",
   "metadata": {
    "collapsed": false
   },
   "source": [
    "info_list = []\n",
    "\n",
    "for root, dirs, files in os.walk(\"corpus\"):\n",
    "    for filename in files:\n",
    "        if filename[0] != \".\":\n",
    "            f = open(root + \"/\" + filename, \"r\")\n",
    "            c = f.read()\n",
    "            f.close()\n",
    "            info_list.append(c)\n",
    "            \n",
    "for c in info_list:\n",
    "    print(len(c))"
   ]
  },
  {
   "cell_type": "markdown",
   "metadata": {
    "collapsed": true
   },
   "source": [
    "## Cleaning the texts\n",
    "The texts must first be cleaned before they can do anything. The best way to do this is to write a function and will perform the cleaning. We will then call it when we need our texts to be cleaned. We will remove most unwanted characters with regular expressions. As we will have multiple characters not matching the regex, we will use a loop for the rest."
   ]
  },
  {
   "cell_type": "code",
   "execution_count": 5,
   "metadata": {
    "collapsed": true
   },
   "outputs": [],
   "source": [
    "import re\n",
    "\n",
    "def clean(instring):\n",
    "    # Remove mid-file markers\n",
    "    instring = re.sub(r'~~~START\\|.+?\\|START~~~', \"\", instring)\n",
    "    \n",
    "    # This regex will remove all letters and numbers\n",
    "    instring = re.sub(r'[a-zA-Z0-9]', \"\", instring)\n",
    "    \n",
    "    # A variety of characters to remove\n",
    "    unwanted_chars = ['』','。', '！', '，', '：', '、', '（',\n",
    "                      '）', '；', '？', '〉', '〈', '」', '「',\n",
    "                      '『', '“', '”', '!', '\"', '#', '$', '%',\n",
    "                      '&', \"'\", '(', ')', '*', '+', ',', '-',\n",
    "                      '.', '/', \"《\", \"》\", \"·\", \"a\", \"b\"]\n",
    "    \n",
    "    for char in unwanted_chars:\n",
    "        # replace each character with nothing\n",
    "        instring = instring.replace(char, \"\")\n",
    "    \n",
    "    # return the resulting string.\n",
    "    return instring"
   ]
  },
  {
   "cell_type": "markdown",
   "metadata": {},
   "source": [
    "## Clean the text before saving it"
   ]
  },
  {
   "cell_type": "code",
   "execution_count": 6,
   "metadata": {
    "collapsed": false
   },
   "outputs": [
    {
     "name": "stdout",
     "output_type": "stream",
     "text": [
      "This is before:\n",
      "~~~START|0-六十种曲紫钗记-明-汤显祖|STAR\n",
      "This is after: \n",
      "\n",
      "\n",
      "六十种曲 紫钗记 明 汤显祖\n",
      "\n",
      "\n",
      "\n",
      "紫钗记　　明汤显祖\n"
     ]
    }
   ],
   "source": [
    "info_list = []\n",
    "# just for demonstration purposes\n",
    "not_cleaned = []\n",
    "\n",
    "for root, dirs, files in os.walk(\"corpus\"):\n",
    "    for filename in files:\n",
    "        if filename[0] != \".\":\n",
    "            f = open(root + \"/\" + filename, \"r\", encoding=\"utf8\")\n",
    "            c = f.read()\n",
    "            f.close()\n",
    "            \n",
    "            not_cleaned.append(c)\n",
    "            info_list.append(clean(c))\n",
    "\n",
    "print(\"This is before:\" + not_cleaned[0][:30])\n",
    "print(\"This is after: \" + info_list[0][:30])"
   ]
  },
  {
   "cell_type": "markdown",
   "metadata": {},
   "source": [
    "## Remove Whitespace\n",
    "As there was no whitespace in the original text, you might want to remove it from your digital copy. We can either do this easily with a regular expression in the file-reading stage. We could also add it to the cleaning function if we like."
   ]
  },
  {
   "cell_type": "code",
   "execution_count": 7,
   "metadata": {
    "collapsed": false
   },
   "outputs": [
    {
     "name": "stdout",
     "output_type": "stream",
     "text": [
      "This is before:\n",
      "~~~START|0-六十种曲紫钗记-明-汤显祖|STAR\n",
      "This is after: 六十种曲紫钗记明汤显祖紫钗记明汤显祖着绣刻演剧十本第二套南西\n"
     ]
    }
   ],
   "source": [
    "info_list = []\n",
    "# just for demonstration purposes\n",
    "not_cleaned = []\n",
    "\n",
    "for root, dirs, files in os.walk(\"corpus\"):\n",
    "    for filename in files:\n",
    "        if filename[0] != \".\":\n",
    "            f = open(root + \"/\" + filename, \"r\", encoding=\"utf8\")\n",
    "            c = f.read()\n",
    "            f.close()\n",
    "            \n",
    "            not_cleaned.append(c)\n",
    "            \n",
    "            # remove white space\n",
    "            c = re.sub(\"\\s+\", \"\", c)\n",
    "            \n",
    "            info_list.append(clean(c))\n",
    "\n",
    "print(\"This is before:\" + not_cleaned[0][:30])\n",
    "print(\"This is after: \" + info_list[0][:30])"
   ]
  },
  {
   "cell_type": "markdown",
   "metadata": {},
   "source": [
    "## Decide how to break apart strings\n",
    "Now that we have a clean string to analyze, we will want to decide how to analyze it. The first step is to decide if we want to look at the entire text, or break it apart into equal lengths. There are advantages and disadvantages to each. I will show you how to break apart the texts. To not break the text apart, simply change break_apart to False."
   ]
  },
  {
   "cell_type": "code",
   "execution_count": 8,
   "metadata": {
    "collapsed": false
   },
   "outputs": [
    {
     "name": "stdout",
     "output_type": "stream",
     "text": [
      "10000\n"
     ]
    }
   ],
   "source": [
    "# This function does not retain the leftover small section at\n",
    "# the end of the text\n",
    "def textBreak(inputstring):\n",
    "    # Decide how long each section should be\n",
    "    divlim = 10000\n",
    "    \n",
    "    # Calculate how many loops to run\n",
    "    loops = len(inputstring)//divlim\n",
    "    \n",
    "    # Make an empty list to save the results\n",
    "    save = []\n",
    "    \n",
    "    # Save chunks of equal length\n",
    "    for i in range(0, loops):\n",
    "        save.append(inputstring[i * divlim: (i + 1) * divlim])\n",
    "    \n",
    "    return save\n",
    "\n",
    "break_apart = True\n",
    "\n",
    "if break_apart == True:\n",
    "    broken_chunks = []\n",
    "\n",
    "    for item in info_list:\n",
    "        broken_chunks.extend(textBreak(item))\n",
    "        \n",
    "# Check to see if it worked.\n",
    "print(len(broken_chunks[0]))"
   ]
  },
  {
   "cell_type": "markdown",
   "metadata": {},
   "source": [
    "## Deal with Metadata\n",
    "If you have structured your data well, you should have a metadata file that keeps track of each document in your corpus. This is not essential, but it is very helpful."
   ]
  },
  {
   "cell_type": "markdown",
   "metadata": {},
   "source": [
    "### Read metadata file into a dictionary.\n",
    "There are a variety of ways of doing this. I am just going to break the text apart and build the dictionary manually."
   ]
  },
  {
   "cell_type": "code",
   "execution_count": 9,
   "metadata": {
    "collapsed": false
   },
   "outputs": [
    {
     "name": "stdout",
     "output_type": "stream",
     "text": [
      "{'01': ['桃花扇', '孔尚任', '清', '传奇'], '08': ['红楼梦', '曹雪芹', '清', '小说'], '03': ['牡丹亭', '汤显祖', '明', '传奇'], '06': ['无声戏', '李渔', '清', '小说'], '05': ['十二楼', '李渔', '清', '小说'], '10': ['西游记', '吴承恩', '明', '小说'], '04': ['儒林外史', '吴敬梓', '清', '小说'], '07': ['水浒传', '施耐庵', '明', '小说'], '12': ['三国演义', '罗贯中', '明', '小说'], '02': ['清忠谱', '李玉', '清', '传奇'], '09': ['聊斋志异', '蒲松龄', '清', '话本'], '11': ['金瓶梅', '兰陵笑笑生', '明', '小说'], '00': ['紫钗记', '汤显祖', '明', '传奇'], '13': ['警世通言', '冯梦龙', '明', '话本']}\n"
     ]
    }
   ],
   "source": [
    "# Create a dictionary to store the information\n",
    "metadata = {}\n",
    "\n",
    "# open and extract the string\n",
    "metadatafile = open(\"metadata.txt\", \"r\", encoding=\"utf8\")\n",
    "metadatastring = metadatafile.read()\n",
    "metadatafile.close()\n",
    "\n",
    "# split into by line\n",
    "lines = metadatastring.split(\"\\n\")\n",
    "for line in lines:\n",
    "    # split using tabs\n",
    "    cells = line.split(\"\\t\")\n",
    "    \n",
    "    # use the first column as the key, which I use store\n",
    "    # the rest of the columns\n",
    "    metadata[cells[0]] = cells[1:]\n",
    "    \n",
    "print(metadata)\n",
    "    "
   ]
  },
  {
   "cell_type": "markdown",
   "metadata": {},
   "source": [
    "### Use the Metadata to store information about each file\n",
    "I usually store the information in parallel lists. This way it is easy for the analysis part of the software to attach different labels.\n",
    "\n",
    "The following code applies to using whole files (rather than breaking them apart)."
   ]
  },
  {
   "cell_type": "code",
   "execution_count": 10,
   "metadata": {
    "collapsed": false
   },
   "outputs": [
    {
     "name": "stdout",
     "output_type": "stream",
     "text": [
      "['紫钗记', '桃花扇', '清忠谱', '牡丹亭', '儒林外史', '十二楼', '无声戏', '水浒传', '红楼梦', '聊斋志异', '西游记', '金瓶梅', '三国演义', '警世通言']\n"
     ]
    }
   ],
   "source": [
    "# Create empty lists to store the information\n",
    "info_list = []\n",
    "title_list = []\n",
    "author_list = []\n",
    "era_list = []\n",
    "genre_list = []\n",
    "\n",
    "# Create dictionaries store unique info:\n",
    "title_author = {}\n",
    "title_era = {}\n",
    "title_genre = {}\n",
    "\n",
    "for root, dirs, files in os.walk(\"corpus\"):\n",
    "    for filename in files:\n",
    "        if filename[0] != \".\":\n",
    "            f = open(root + \"/\" + filename, \"r\", encoding=\"utf8\")\n",
    "            c = f.read()\n",
    "            f.close()\n",
    "            c = re.sub(\"\\s+\", \"\", c)\n",
    "            c = clean(c)\n",
    "            # Get metadata. the [:-4] removes the .txt from filename\n",
    "            metainfo = metadata[filename[:-4]]\n",
    "            \n",
    "            info_list.append(c)\n",
    "            title_list.append(metainfo[0])\n",
    "            author_list.append(metainfo[1])\n",
    "            era_list.append(metainfo[2])\n",
    "            genre_list.append(metainfo[3])\n",
    "            \n",
    "            title_author[metainfo[0]] = metainfo[1]\n",
    "            title_era[metainfo[0]] = metainfo[2]\n",
    "            title_genre[metainfo[0]] = metainfo[3]\n",
    "            \n",
    "print(title_list)"
   ]
  },
  {
   "cell_type": "markdown",
   "metadata": {},
   "source": [
    "### It is a bit more complicated if you break texts apart"
   ]
  },
  {
   "cell_type": "code",
   "execution_count": 11,
   "metadata": {
    "collapsed": false
   },
   "outputs": [
    {
     "name": "stdout",
     "output_type": "stream",
     "text": [
      "['汤显祖', '汤显祖', '汤显祖', '汤显祖', '汤显祖', '孔尚任', '孔尚任', '孔尚任', '孔尚任', '孔尚任', '孔尚任', '孔尚任', '孔尚任', '李玉', '李玉', '李玉', '李玉', '李玉', '汤显祖', '汤显祖']\n"
     ]
    }
   ],
   "source": [
    "# Create empty lists/dictionaries to store the information\n",
    "info_list = []\n",
    "title_list = []\n",
    "author_list = []\n",
    "era_list = []\n",
    "genre_list = []\n",
    "title_author = {}\n",
    "title_era = {}\n",
    "title_genre = {}\n",
    "\n",
    "# We should also track which section number\n",
    "section_number = []\n",
    "\n",
    "for root, dirs, files in os.walk(\"corpus\"):\n",
    "    for filename in files:\n",
    "        if filename[0] != \".\":\n",
    "            f = open(root + \"/\" + filename, \"r\", encoding=\"utf8\")\n",
    "            c = f.read()\n",
    "            f.close()\n",
    "            c = re.sub(\"\\s+\", \"\", c)\n",
    "            c = clean(c)\n",
    "            \n",
    "            # Get metadata. the [:-4] removes the .txt from filename\n",
    "            metainfo = metadata[filename[:-4]]\n",
    "            \n",
    "            # The dictionary formation stays the same\n",
    "            title_author[metainfo[0]] = metainfo[1]\n",
    "            title_era[metainfo[0]] = metainfo[2]\n",
    "            title_genre[metainfo[0]] = metainfo[3]\n",
    "        \n",
    "            # Break the Text apart\n",
    "            broken_sections = textBreak(c)\n",
    "            \n",
    "            # We will need to extend, rather than append\n",
    "            info_list.extend(broken_sections)\n",
    "            \n",
    "            title_list.extend([metainfo[0] for i in \n",
    "                               range(0,len(broken_sections))])\n",
    "            author_list.extend([metainfo[1] for i in \n",
    "                                range(0,len(broken_sections))])\n",
    "            era_list.extend([metainfo[2] for i in \n",
    "                             range(0,len(broken_sections))])\n",
    "            genre_list.extend([metainfo[3] for i in \n",
    "                               range(0,len(broken_sections))])\n",
    "            section_number.extend([i for i in range(0, len(broken_sections))])\n",
    "            \n",
    "print(author_list[:20])"
   ]
  },
  {
   "cell_type": "markdown",
   "metadata": {},
   "source": [
    "## Let's put these two together\n",
    "Let's add some logic so we can easily switch between the two."
   ]
  },
  {
   "cell_type": "code",
   "execution_count": 12,
   "metadata": {
    "collapsed": true
   },
   "outputs": [],
   "source": [
    "# Create empty lists/dictionaries to store the information\n",
    "info_list = []\n",
    "title_list = []\n",
    "author_list = []\n",
    "era_list = []\n",
    "genre_list = []\n",
    "section_number = []\n",
    "title_author = {}\n",
    "title_era = {}\n",
    "title_genre = {}\n",
    "\n",
    "break_apart = False\n",
    "\n",
    "for root, dirs, files in os.walk(\"corpus\"):\n",
    "    for filename in files:\n",
    "        if filename[0] != \".\":\n",
    "            f = open(root + \"/\" + filename, \"r\", encoding=\"utf8\")\n",
    "            c = f.read()\n",
    "            f.close()\n",
    "            c = re.sub(\"\\s+\", \"\", c)\n",
    "            c = clean(c)\n",
    "            \n",
    "            # Get metadata. the [:-4] removes the .txt from filename\n",
    "            metainfo = metadata[filename[:-4]]\n",
    "            \n",
    "            title_author[metainfo[0]] = metainfo[1]\n",
    "            title_era[metainfo[0]] = metainfo[2]\n",
    "            title_genre[metainfo[0]] = metainfo[3]\n",
    "            \n",
    "            if not break_apart:\n",
    "                info_list.append(c)\n",
    "                title_list.append(metainfo[0])\n",
    "                author_list.append(metainfo[1])\n",
    "                era_list.append(metainfo[2])\n",
    "                genre_list.append(metainfo[3])\n",
    "                \n",
    "\n",
    "            else:\n",
    "                broken_sections = textBreak(c)\n",
    "                \n",
    "                info_list.extend(broken_sections)\n",
    "\n",
    "                title_list.extend([metainfo[0] for i in \n",
    "                                   range(0,len(broken_sections))])\n",
    "                author_list.extend([metainfo[1] for i in \n",
    "                                    range(0,len(broken_sections))])\n",
    "                era_list.extend([metainfo[2] for i in \n",
    "                                 range(0,len(broken_sections))])\n",
    "                genre_list.extend([metainfo[3] for i in \n",
    "                                   range(0,len(broken_sections))])\n",
    "                section_number.extend([i for i in range(0, len(broken_sections))])\n"
   ]
  },
  {
   "cell_type": "markdown",
   "metadata": {},
   "source": [
    "## Now we can start calculating common characters\n",
    "There are a variety of ways to do this. Here I will just use code packaged in the Sci-kit learn module."
   ]
  },
  {
   "cell_type": "code",
   "execution_count": 13,
   "metadata": {
    "collapsed": false
   },
   "outputs": [],
   "source": [
    "from sklearn.feature_extraction.text import CountVectorizer, TfidfVectorizer"
   ]
  },
  {
   "cell_type": "markdown",
   "metadata": {},
   "source": [
    "## Tokenizing the text with sci-kit learn vectorizer\n",
    "When you use sci-kit learn, you can give it a lot of options. "
   ]
  },
  {
   "cell_type": "markdown",
   "metadata": {},
   "source": [
    "## If you have a file with whitespace between items:\n",
    "You can use whitespace to tokenize your documents. For example, if you have used the Stanford Word Parser, then you can use a vectorizer set up like this to take advantage of this:"
   ]
  },
  {
   "cell_type": "code",
   "execution_count": 14,
   "metadata": {
    "collapsed": true
   },
   "outputs": [],
   "source": [
    "vectorizer = CountVectorizer(analyzer=\"word\", ngram_range=(1,1),\n",
    "                            token_pattern=\"\\S+\", max_features = 100)"
   ]
  },
  {
   "cell_type": "markdown",
   "metadata": {},
   "source": [
    "## If you do not have a file with whitespace between items:\n",
    "Here we will just use characters to tokenize. This works well with Imperial Chinese. Particularly with wenyan texts. Here we are telling it to look at characters, rathern than words, 1-grams, and the 100 most common characters."
   ]
  },
  {
   "cell_type": "code",
   "execution_count": 15,
   "metadata": {
    "collapsed": true
   },
   "outputs": [],
   "source": [
    "vectorizer = CountVectorizer(analyzer=\"char\",ngram_range=(1,1),\n",
    "                             max_features = 100)"
   ]
  },
  {
   "cell_type": "markdown",
   "metadata": {},
   "source": [
    "## Apply the vectorizer to the texts"
   ]
  },
  {
   "cell_type": "code",
   "execution_count": 16,
   "metadata": {
    "collapsed": false
   },
   "outputs": [
    {
     "name": "stdout",
     "output_type": "stream",
     "text": [
      "['一', '三', '上', '下', '不', '与', '两', '个', '中', '为', '么', '之', '也', '了', '事', '二', '人', '今', '他', '以', '们', '何', '你', '便', '儿', '先', '公', '军', '出', '到', '前', '十', '去', '又', '只', '叫', '可', '后', '听', '回', '在', '大', '天', '太', '头', '好', '如', '娘', '子', '家', '将', '小', '就', '山', '得', '心', '我', '打', '把', '无', '日', '时', '是', '曰', '有', '来', '正', '此', '玉', '王', '生', '的', '相', '看', '着', '知', '笑', '等', '老', '者', '而', '自', '行', '西', '要', '见', '说', '起', '身', '过', '还', '这', '道', '那', '都', '里', '门', '问', '面', '马']\n"
     ]
    }
   ],
   "source": [
    "word_count_matrix = vectorizer.fit_transform(info_list)\n",
    "# This will tell you the features found by the vectorizer.\n",
    "vocab = vectorizer.get_feature_names()\n",
    "print(vocab)"
   ]
  },
  {
   "cell_type": "markdown",
   "metadata": {},
   "source": [
    "## This are not in order of the most common character. We can use a library called pandas to asscertain this easily."
   ]
  },
  {
   "cell_type": "code",
   "execution_count": 17,
   "metadata": {
    "collapsed": false
   },
   "outputs": [
    {
     "name": "stdout",
     "output_type": "stream",
     "text": [
      "不    76780\n",
      "了    74800\n",
      "一    65474\n",
      "来    55932\n",
      "道    55370\n",
      "人    54672\n",
      "的    47706\n",
      "是    43752\n",
      "我    37794\n",
      "他    34373\n",
      "dtype: int64\n"
     ]
    }
   ],
   "source": [
    "import pandas as pd\n",
    "from pandas import Series\n",
    "\n",
    "fullcorpus = \"\"\n",
    "for text in info_list:\n",
    "    fullcorpus += text\n",
    "    \n",
    "tokens = list(fullcorpus)\n",
    "\n",
    "corpus_series = Series(tokens)\n",
    "\n",
    "values = corpus_series.value_counts()\n",
    "\n",
    "print(values[:10])"
   ]
  },
  {
   "cell_type": "markdown",
   "metadata": {},
   "source": [
    "## Term Frequency and Term Frequency - Inverse Document Frequency\n",
    "sci-kit learn also has a term frequency and tfidf vectorizer that you can use, depending on how you want to think about your texts."
   ]
  },
  {
   "cell_type": "code",
   "execution_count": 18,
   "metadata": {
    "collapsed": true
   },
   "outputs": [],
   "source": [
    "# Just use this instead when creating your vectorizer.\n",
    "# To get TF, tell it to not use idf. otherwise, set to true\n",
    "vectorizer = TfidfVectorizer(use_idf=False, analyzer=\"char\",\n",
    "                            ngram_range=(1,1), max_features=10)"
   ]
  },
  {
   "cell_type": "markdown",
   "metadata": {},
   "source": [
    "## A bit more on normalization\n",
    "If you are using texts of different length, you will need to be sure that you use some sort of normalization if you are hoping to use euclidean distance as a similarity measure. One of the easier ways to normalize is to adjust the raw character count to occurrences per thousand characters. The code below does this using pandas."
   ]
  },
  {
   "cell_type": "code",
   "execution_count": 19,
   "metadata": {
    "collapsed": false
   },
   "outputs": [
    {
     "name": "stdout",
     "output_type": "stream",
     "text": [
      "            一          三          上          下          不          与  \\\n",
      "0   27.877143   6.845936  26.273591  11.841618  34.353028   4.687307   \n",
      "1   27.817947  10.084481  20.016744  18.190121  43.001751   3.957683   \n",
      "2   33.331367   6.725267  25.721196  14.453425  39.407705   5.781370   \n",
      "3   29.895996   8.547728  20.337698  13.979536  36.885764   2.863278   \n",
      "4   38.371217   7.975542  15.722156  12.288242  29.767971   4.083773   \n",
      "5   42.140946   4.799286  10.776093   6.458519  63.157895   8.474576   \n",
      "6   41.840849   4.217528  11.221968   6.539955  55.385244   8.546532   \n",
      "7   33.805693   9.313420  19.724803  16.507965  28.553450   7.159230   \n",
      "8   32.400955   3.266042  10.132487   7.366650  39.909375   2.819335   \n",
      "9   32.770973   8.023090   9.766867   8.821963  60.276255  11.699624   \n",
      "10  31.887596  13.490596  14.924652  12.000145  35.605667   8.982989   \n",
      "11  30.403190   6.492741  15.408553  12.897865  34.868650  10.731604   \n",
      "12  25.658167   9.200013  13.090122  17.731512  42.880336  11.944100   \n",
      "13  37.947215   9.809103  13.140194  15.342238  40.445533   9.576887   \n",
      "\n",
      "            两          个          中          为    ...             还  \\\n",
      "0    2.898729  12.951770   9.682990   8.819539    ...      7.586037   \n",
      "1    4.071847  11.188066   8.410077   8.219804    ...      6.659563   \n",
      "2    4.483511  11.857708   6.725267   6.607280    ...      5.958351   \n",
      "3    2.105352  13.979536   9.474083  10.526759    ...      4.926523   \n",
      "4   11.246991  21.725966   5.280104   3.086830    ...      5.154563   \n",
      "5    6.940232  17.341659   8.367529   8.367529    ...      8.688671   \n",
      "6    7.914832  22.536834   7.431767   5.778199    ...      8.695167   \n",
      "7   12.157850  22.373397   9.506045   5.178403    ...      1.836359   \n",
      "8    5.946283  15.019513   4.477768   3.391762    ...      6.660479   \n",
      "9    4.638617   0.188981  17.729826  21.801502    ...      1.417355   \n",
      "10   5.200466  22.828070   6.888301   3.871144    ...      4.890291   \n",
      "11  11.508074  15.502213   7.450489   2.764476    ...      5.519888   \n",
      "12   4.806927   1.642632  17.215802  16.871996    ...      1.738134   \n",
      "13   7.775215  16.431248  13.908907   8.559944    ...      4.259953   \n",
      "\n",
      "            这          道          那         都          里          门  \\\n",
      "0   11.224867   6.352535  11.163192  3.083755   2.096953  11.964969   \n",
      "1   19.636198   6.621508  13.661618  5.175432   7.877312   8.372022   \n",
      "2   13.037579   6.076338  11.090791  3.539614   9.556958   9.792933   \n",
      "3   19.158701   9.937261  13.095288  3.789633  10.021475   8.126658   \n",
      "4   22.508751  33.393888  14.503670  6.469050  18.860679   7.635843   \n",
      "5   16.449599  16.913470   6.155219  7.297056   4.299732   4.281891   \n",
      "6   16.145514  25.472382   7.543244  6.521376   8.249261   4.551957   \n",
      "7   13.641063  34.682137  16.719853  9.936241  17.766449   6.777191   \n",
      "8   20.698307  29.332855  13.032069  7.112535  13.690092   3.327564   \n",
      "9    0.008590   6.167643   0.146031  2.138918   3.461783   7.859879   \n",
      "10  15.250940  44.419469  30.099055  4.749302  11.383823   7.214589   \n",
      "11  14.894935  30.237020  14.795232  6.124145  15.641192  22.136955   \n",
      "12   0.853150   3.482635   1.578964  4.819661   3.196129   4.590456   \n",
      "13  10.129400  30.780564  11.154351  4.780436   9.624932   7.310784   \n",
      "\n",
      "            问         面          马  \n",
      "0    4.687307  3.083755   8.017762  \n",
      "1    7.648984  3.462973   8.257858  \n",
      "2    2.005781  3.362633   2.772698  \n",
      "3    4.589667  3.158028   3.200135  \n",
      "4    4.741016  4.083773   2.747131  \n",
      "5    3.282783  7.154326   0.535236  \n",
      "6    4.143210  5.722461   0.780336  \n",
      "7    3.541090  7.444957  14.170781  \n",
      "8    5.323033  4.755956   0.591151  \n",
      "9   11.751164  1.975707   4.930678  \n",
      "10   3.726128  3.830862   4.568031  \n",
      "11   5.571249  5.121078   2.096772  \n",
      "12   6.519594  5.138000  24.976920  \n",
      "13   5.685276  4.091797   2.490311  \n",
      "\n",
      "[14 rows x 100 columns]\n"
     ]
    }
   ],
   "source": [
    "from pandas import DataFrame\n",
    "# Recreate a CountVectorizer object\n",
    "vectorizer = CountVectorizer(analyzer=\"char\", ngram_range=(1,1),\n",
    "                             max_features=100)\n",
    "word_count_matrix=vectorizer.fit_transform(info_list)\n",
    "vocab = vectorizer.get_feature_names()\n",
    "\n",
    "# We will need a dense matrix, not a sparse matrix\n",
    "dense_words = word_count_matrix.toarray()\n",
    "\n",
    "corpus_dataframe = DataFrame(dense_words, columns=vocab)\n",
    "\n",
    "# Calculate how long each document is\n",
    "doclengths = corpus_dataframe.sum(axis=1)\n",
    "\n",
    "# Make a series that is the same length as the document length series\n",
    "# but populated with 1000.\n",
    "thousand = Series([1000 for i in range(0,len(doclengths))])\n",
    "\n",
    "# Divide this by the length of each document\n",
    "adjusteddoclengths = thousand.divide(doclengths)\n",
    "\n",
    "# Multiply the corpus DataFrame by this adjusting factor\n",
    "per_thousand = corpus_dataframe.multiply(adjusteddoclengths, axis = 0)\n",
    "\n",
    "print(per_thousand)\n",
    "\n",
    "# Convert back to word_count_matrix\n",
    "word_count_matrix = per_thousand.as_matrix()"
   ]
  },
  {
   "cell_type": "markdown",
   "metadata": {},
   "source": [
    "## Using Vocabulary\n",
    "If you want to, you can give the vectorizer a set vocabulary to pay attention to, rather than just using the most common characters. This comes in handy when you have an idea which characters distinguish the texts most efficiently."
   ]
  },
  {
   "cell_type": "code",
   "execution_count": 20,
   "metadata": {
    "collapsed": true
   },
   "outputs": [],
   "source": [
    "my_vocab = [\"的\", \"之\", \"曰\", \"说\"]\n",
    "\n",
    "vectorizer = CountVectorizer(analyzer=\"char\",ngram_range=(1,1),\n",
    "                             vocabulary = my_vocab)"
   ]
  },
  {
   "cell_type": "markdown",
   "metadata": {},
   "source": [
    "## Hierarchical Cluster Analysis: Making a Dendrogram\n",
    "Now we can start calculating the relationships among these works. We will have to decide if we want to use euclidean distance or cosine similarity. We will import several tools to help us do this\n",
    "\n",
    "### Euclidean Distance\n",
    "Each vector is understood as a point in space. You will need to calculate the distance between each point. We will use these to judge similarity.\n",
    "\n",
    "### Cosine similarity\n",
    "Here we are interested in the direction that each vector points. You will calculate the angle between each point."
   ]
  },
  {
   "cell_type": "code",
   "execution_count": 21,
   "metadata": {
    "collapsed": true
   },
   "outputs": [],
   "source": [
    "from sklearn.metrics.pairwise import euclidean_distances, cosine_similarity\n",
    "\n",
    "euc_or_cosine = \"euc\"\n",
    "if euc_or_cosine == \"euc\":\n",
    "    similarity = euclidean_distances(word_count_matrix)\n",
    "elif euc_or_cosine == \"cos\":\n",
    "    similarity = cosine_similarity(word_count_matrix)"
   ]
  },
  {
   "cell_type": "markdown",
   "metadata": {},
   "source": [
    "### You now have a similarity matrix\n",
    "The similarity variable now contains the similarity measure between each document in the corpus. You can use this to create a linkage matrix which will allow you to visualize the relationships among these texts as a dendrogram.\n",
    "Here we will use the \"Ward\" algorithm to cluster the texts together."
   ]
  },
  {
   "cell_type": "code",
   "execution_count": 22,
   "metadata": {
    "collapsed": false
   },
   "outputs": [],
   "source": [
    "from scipy.cluster.hierarchy import ward, dendrogram\n",
    "linkage_matrix = ward(similarity)"
   ]
  },
  {
   "cell_type": "markdown",
   "metadata": {},
   "source": [
    "## Now it is time to visualize the relationships\n",
    "This will open a new window. You will have to close it for later parts of the script to continue to run."
   ]
  },
  {
   "cell_type": "code",
   "execution_count": 23,
   "metadata": {
    "collapsed": false
   },
   "outputs": [
    {
     "name": "stderr",
     "output_type": "stream",
     "text": [
      "//anaconda/lib/python3.5/site-packages/matplotlib/collections.py:590: FutureWarning: elementwise comparison failed; returning scalar instead, but in the future will perform elementwise comparison\n",
      "  if self._edgecolors == str('face'):\n"
     ]
    },
    {
     "data": {
      "image/png": "iVBORw0KGgoAAAANSUhEUgAAAXgAAAD7CAYAAABgzo9kAAAABHNCSVQICAgIfAhkiAAAAAlwSFlz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\nmZlVlAO8mVlFOcCbmVWUA7yZWUX9P3nElRplAHYsAAAAAElFTkSuQmCC\n",
      "text/plain": [
       "<matplotlib.figure.Figure at 0x139045080>"
      ]
     },
     "metadata": {},
     "output_type": "display_data"
    }
   ],
   "source": [
    "# import the plotting library.\n",
    "import matplotlib\n",
    "import matplotlib.pyplot as plt\n",
    "import matplotlib.font_manager\n",
    "\n",
    "# Set the font to a Chinese Font Family\n",
    "# STHeiti works for Macs, SimHei should work on Windows\n",
    "# Linux does not come with a compatible Chinese font.\n",
    "# Here I have defaulted to a Japanese font.\n",
    "# I've added logic that checks what system you are using.\n",
    "from sys import platform\n",
    "if platform == \"linux\" or platform == \"linux2\":\n",
    "    print(\"Sorry, I can't see the appropriate fonts, defaulting to Japanese\")\n",
    "    matplotlib.rc('font', family=\"TakaoPGothic\")\n",
    "elif platform == \"win32\" or platform == \"win64\":\n",
    "    matplotlib.rc('font', family=\"SimHei\")\n",
    "elif platform == \"darwin\":\n",
    "    matplotlib.rc('font', family='STHeiti')\n",
    "    \n",
    "# Make the Dendrogram\n",
    "dendrogram(linkage_matrix, labels=title_list)\n",
    "plt.show()"
   ]
  },
  {
   "cell_type": "markdown",
   "metadata": {
    "collapsed": true
   },
   "source": [
    "## This can be made a bit more attractive"
   ]
  },
  {
   "cell_type": "code",
   "execution_count": 24,
   "metadata": {
    "collapsed": false
   },
   "outputs": [
    {
     "name": "stderr",
     "output_type": "stream",
     "text": [
      "//anaconda/lib/python3.5/site-packages/matplotlib/collections.py:590: FutureWarning: elementwise comparison failed; returning scalar instead, but in the future will perform elementwise comparison\n",
      "  if self._edgecolors == str('face'):\n"
     ]
    },
    {
     "data": {
      "image/png": "iVBORw0KGgoAAAANSUhEUgAAAYEAAAE0CAYAAADKXo/iAAAABHNCSVQICAgIfAhkiAAAAAlwSFlz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\nAElFTkSuQmCC\n",
      "text/plain": [
       "<matplotlib.figure.Figure at 0x138cf5be0>"
      ]
     },
     "metadata": {},
     "output_type": "display_data"
    }
   ],
   "source": [
    "dendrogram(linkage_matrix, labels=title_list)\n",
    "\n",
    "# Add a Title\n",
    "plt.title(\"Textual Relationships\")\n",
    "\n",
    "# Add x and y axis labels\n",
    "plt.xlabel(\"Texts\")\n",
    "plt.ylabel(\"Distance\")\n",
    "\n",
    "# Set the angle of the labels so they are easier to read\n",
    "plt.xticks(rotation=60)\n",
    "\n",
    "# Show the plot\n",
    "plt.show()"
   ]
  },
  {
   "cell_type": "markdown",
   "metadata": {
    "collapsed": true
   },
   "source": [
    "## Saving the Figure\n",
    "To actually use the results, you will need to save the figure. You can save it as a variety of formats. I advise saving it as a pdf, which you can then edit further in Adobe Illustrator or some other vector-editing program."
   ]
  },
  {
   "cell_type": "code",
   "execution_count": 25,
   "metadata": {
    "collapsed": false
   },
   "outputs": [
    {
     "name": "stderr",
     "output_type": "stream",
     "text": [
      "//anaconda/lib/python3.5/site-packages/matplotlib/collections.py:590: FutureWarning: elementwise comparison failed; returning scalar instead, but in the future will perform elementwise comparison\n",
      "  if self._edgecolors == str('face'):\n"
     ]
    },
    {
     "data": {
      "image/png": "iVBORw0KGgoAAAANSUhEUgAAAbcAAAHcCAYAAABVpORyAAAABHNCSVQICAgIfAhkiAAAAAlwSFlz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\nzczMquPgZmZm1XFwMzOz6vx/Yf4igZqbKP8AAAAASUVORK5CYII=\n",
      "text/plain": [
       "<matplotlib.figure.Figure at 0x138d6f2b0>"
      ]
     },
     "metadata": {},
     "output_type": "display_data"
    }
   ],
   "source": [
    "# Set the size of the Figure\n",
    "# This will make a Seven inch by Seven inch figure\n",
    "plt.figure(figsize=(7,7))\n",
    "\n",
    "dendrogram(linkage_matrix, labels=title_list)\n",
    "\n",
    "# Add a Title\n",
    "plt.title(\"Textual Relationships\")\n",
    "\n",
    "# Add x and y axis labels\n",
    "plt.xlabel(\"Texts\")\n",
    "plt.ylabel(\"Distance\")\n",
    "\n",
    "# Set the angle of the labels so they are easier to read\n",
    "plt.xticks(rotation=60)\n",
    "\n",
    "plt.savefig(\"results.pdf\")"
   ]
  },
  {
   "cell_type": "markdown",
   "metadata": {},
   "source": [
    "## Adding some color\n",
    "Sometimes it helps to add a bit of color to the figure so you can easily interpret it."
   ]
  },
  {
   "cell_type": "code",
   "execution_count": 26,
   "metadata": {
    "collapsed": false
   },
   "outputs": [
    {
     "name": "stderr",
     "output_type": "stream",
     "text": [
      "//anaconda/lib/python3.5/site-packages/matplotlib/collections.py:590: FutureWarning: elementwise comparison failed; returning scalar instead, but in the future will perform elementwise comparison\n",
      "  if self._edgecolors == str('face'):\n"
     ]
    },
    {
     "data": {
      "image/png": "iVBORw0KGgoAAAANSUhEUgAAAYEAAAE0CAYAAADKXo/iAAAABHNCSVQICAgIfAhkiAAAAAlwSFlz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\nQmCC\n",
      "text/plain": [
       "<matplotlib.figure.Figure at 0x138f332e8>"
      ]
     },
     "metadata": {},
     "output_type": "display_data"
    }
   ],
   "source": [
    "dendrogram(linkage_matrix, labels=title_list)\n",
    "plt.title(\"Textual Relationships\")\n",
    "plt.xlabel(\"Texts\")\n",
    "plt.ylabel(\"Distance\")\n",
    "plt.xticks(rotation=60)\n",
    "\n",
    "# Create a dictionary for color selection\n",
    "# Here we are using genre as the basis for color\n",
    "# You would need to change this if you wanted to color based on authorship.\n",
    "color_dict = {\"传奇\":\"red\", \"小说\":\"blue\", \"话本\":\"magenta\"}\n",
    "\n",
    "# Return information about the tick labels\n",
    "plt_info = plt.gca()\n",
    "tick_labels = plt_info.get_xmajorticklabels()\n",
    "\n",
    "# Iterate through each tick label and assign a new color\n",
    "for tick_label in tick_labels:\n",
    "    # Get the genre from the title to genre dictionary\n",
    "    genre = title_genre[tick_label.get_text()]\n",
    "    \n",
    "    # Get the color from the dictionary\n",
    "    color = color_dict[genre]\n",
    "    \n",
    "    # Set the color\n",
    "    tick_label.set_color(color)\n",
    "    \n",
    "# Show the plot\n",
    "plt.show()"
   ]
  },
  {
   "cell_type": "markdown",
   "metadata": {},
   "source": [
    "# Principal Component Analysis\n",
    "There are other ways to visualize the relationships among these texts. Principal component analysis is a way to explore the variance within the dataset. We can use much of the same data that we used for hierarchical cluster analysis.\n",
    "\n",
    "## Sci-kit learn also has the components necessary\n",
    "You will need to import a few new modules"
   ]
  },
  {
   "cell_type": "code",
   "execution_count": 27,
   "metadata": {
    "collapsed": true
   },
   "outputs": [],
   "source": [
    "from sklearn.decomposition import PCA"
   ]
  },
  {
   "cell_type": "markdown",
   "metadata": {},
   "source": [
    "## Principal Components\n",
    "PCA decomposes the dataset into abstracted components that describe the variance. These can be used as axes on which to replot the data. This will often allow you to get the best view of the data (or at least the most comprehensive).\n",
    "\n",
    "### How many components\n",
    "Generally you will only need the first two principal components (which will describe the most variance within the dataset. Sometimes you will be interested in the third and fourth components. For now, just the first two will be fine."
   ]
  },
  {
   "cell_type": "code",
   "execution_count": 28,
   "metadata": {
    "collapsed": false
   },
   "outputs": [],
   "source": [
    "# Create the PCA object\n",
    "pca = PCA(n_components = 2)\n",
    "\n",
    "# PCA requires a dense matrix. word_count_matrix is sparse\n",
    "# unless you ran the normalization to per 1000 code above!\n",
    "# Convert it to dense matrix\n",
    "#dense_words = word_count_matrix.toarray()\n",
    "dense_words = word_count_matrix\n",
    "# Analyze the dataset\n",
    "my_pca = pca.fit(dense_words).transform(dense_words)"
   ]
  },
  {
   "cell_type": "markdown",
   "metadata": {},
   "source": [
    "## Plotting the results\n",
    "Ploting the actual PCA is the first task. In a moment we will look at how to plot the loadings.\n",
    "\n",
    "### Setting up to Plot\n",
    "You will need to decide how to visualize the results. Do you want to visualize by author, title, or genre?\n",
    "We will write a function to take care of this."
   ]
  },
  {
   "cell_type": "code",
   "execution_count": 29,
   "metadata": {
    "collapsed": false
   },
   "outputs": [],
   "source": [
    "import numpy as np\n",
    "\n",
    "# The input here will be the information you want to use to color\n",
    "# the graph.\n",
    "def info_for_graph(input_list):\n",
    "    # This will return the unique values.\n",
    "    # [a, a, a, b, b] would become\n",
    "    # {a, b}\n",
    "    unique_values = set(input_list)\n",
    "    \n",
    "    # create a list of numerical label and a dictionary to\n",
    "    # populate a list\n",
    "    unique_labels = [i for i in range(0, len(unique_values))]\n",
    "    unique_dictionary = dict(zip(unique_values, unique_labels))\n",
    "    \n",
    "    # make class list\n",
    "    class_list = []\n",
    "    for item in input_list:\n",
    "        class_list.append(unique_dictionary[item])\n",
    "    \n",
    "    return unique_labels, np.array(class_list), unique_values"
   ]
  },
  {
   "cell_type": "markdown",
   "metadata": {},
   "source": [
    "### Using this information\n",
    "This function returns everything we will need to properly visualize our Principal component analysis.\n",
    "Call the function and use the results."
   ]
  },
  {
   "cell_type": "code",
   "execution_count": 30,
   "metadata": {
    "collapsed": false
   },
   "outputs": [
    {
     "name": "stderr",
     "output_type": "stream",
     "text": [
      "//anaconda/lib/python3.5/site-packages/matplotlib/collections.py:590: FutureWarning: elementwise comparison failed; returning scalar instead, but in the future will perform elementwise comparison\n",
      "  if self._edgecolors == str('face'):\n"
     ]
    },
    {
     "data": {
      "image/png": "iVBORw0KGgoAAAANSUhEUgAAAYQAAAEWCAYAAABmE+CbAAAABHNCSVQICAgIfAhkiAAAAAlwSFlz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\ngoiIBEoIIiICKCGIiEighCAiIgD8P0AX4VY61MXkAAAAAElFTkSuQmCC\n",
      "text/plain": [
       "<matplotlib.figure.Figure at 0x138d86470>"
      ]
     },
     "metadata": {},
     "output_type": "display_data"
    }
   ],
   "source": [
    "unique_labels, info_labels, unique_genres = info_for_graph(genre_list)\n",
    "\n",
    "# Make a color list, the same length as unique labels\n",
    "colors = [\"red\", \"magenta\", \"blue\"]\n",
    "\n",
    "# Make the figure\n",
    "plt.figure()\n",
    "\n",
    "# Plot the points using color information.\n",
    "# This code is partially adapted from brandonrose.org/clustering\n",
    "for color, each_class, label in zip(colors, unique_labels, unique_genres):\n",
    "    plt.scatter(my_pca[info_labels == each_class, 0],\n",
    "               my_pca[info_labels == each_class, 1],\n",
    "               label = label, color = color)\n",
    "    \n",
    "# You should title the plot label your axes\n",
    "plt.title(\"Principal Component Analysis\")\n",
    "plt.xlabel(\"PC1: \" + \"{0:.2f}\".format(pca.explained_variance_ratio_[0] * 100)+\"%\")\n",
    "plt.ylabel(\"PC2: \" + \"{0:.2f}\".format(pca.explained_variance_ratio_[1] * 100)+\"%\")\n",
    "    \n",
    "# Give it a legend\n",
    "plt.legend()\n",
    "\n",
    "plt.show()"
   ]
  },
  {
   "cell_type": "markdown",
   "metadata": {},
   "source": [
    "## Adding labels\n",
    "It is fairly simple to add a line of code that adds labels to the figure. This is useful when you want to know where individual texts fall. It is less useful when you want to plot many texts at once."
   ]
  },
  {
   "cell_type": "code",
   "execution_count": 31,
   "metadata": {
    "collapsed": false
   },
   "outputs": [
    {
     "name": "stderr",
     "output_type": "stream",
     "text": [
      "//anaconda/lib/python3.5/site-packages/matplotlib/collections.py:590: FutureWarning: elementwise comparison failed; returning scalar instead, but in the future will perform elementwise comparison\n",
      "  if self._edgecolors == str('face'):\n"
     ]
    },
    {
     "data": {
      "image/png": "iVBORw0KGgoAAAANSUhEUgAAAYQAAAEWCAYAAABmE+CbAAAABHNCSVQICAgIfAhkiAAAAAlwSFlz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\n8McAAAAASUVORK5CYII=\n",
      "text/plain": [
       "<matplotlib.figure.Figure at 0x138e58ac8>"
      ]
     },
     "metadata": {},
     "output_type": "display_data"
    }
   ],
   "source": [
    "unique_labels, info_labels, unique_genres = info_for_graph(genre_list)\n",
    "colors = [\"red\", \"magenta\", \"blue\"]\n",
    "plt.figure()\n",
    "\n",
    "for color, each_class, label in zip(colors, unique_labels, unique_genres):\n",
    "    plt.scatter(my_pca[info_labels == each_class, 0],\n",
    "               my_pca[info_labels == each_class, 1],\n",
    "               label = label, color = color)\n",
    "    \n",
    "for i, text_label in enumerate(title_list):\n",
    "    plt.annotate(text_label,  xy = (my_pca[i, 0], my_pca[i, 1]),\n",
    "                 xytext=(my_pca[i, 0], my_pca[i, 1]), \n",
    "                 size=8)\n",
    "plt.title(\"Principal Component Analysis\")\n",
    "plt.xlabel(\"PC1: \" + \"{0:.2f}\".format(pca.explained_variance_ratio_[0] * 100)+\"%\")\n",
    "plt.ylabel(\"PC2: \" + \"{0:.2f}\".format(pca.explained_variance_ratio_[1] * 100)+\"%\")\n",
    "plt.legend()\n",
    "\n",
    "plt.show()"
   ]
  },
  {
   "cell_type": "markdown",
   "metadata": {},
   "source": [
    "## Loadings Plot\n",
    "You will often want to know how the individual variables have influenced where each text falls. The following code will create a loadings plot using the same data."
   ]
  },
  {
   "cell_type": "code",
   "execution_count": 32,
   "metadata": {
    "collapsed": false
   },
   "outputs": [
    {
     "name": "stderr",
     "output_type": "stream",
     "text": [
      "//anaconda/lib/python3.5/site-packages/matplotlib/collections.py:590: FutureWarning: elementwise comparison failed; returning scalar instead, but in the future will perform elementwise comparison\n",
      "  if self._edgecolors == str('face'):\n"
     ]
    },
    {
     "data": {
      "image/png": "iVBORw0KGgoAAAANSUhEUgAAAYgAAAEWCAYAAAB8LwAVAAAABHNCSVQICAgIfAhkiAAAAAlwSFlz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\notF/AbI3lB8vIn0DAAAAAElFTkSuQmCC\n",
      "text/plain": [
       "<matplotlib.figure.Figure at 0x1390547b8>"
      ]
     },
     "metadata": {},
     "output_type": "display_data"
    }
   ],
   "source": [
    "loadings = pca.components_\n",
    "\n",
    "# This will plot the locations of the loadings, but make the \n",
    "# points completely transparent.\n",
    "plt.scatter(loadings[0], loadings[1], alpha=0)\n",
    "\n",
    "# Label and Title\n",
    "plt.title(\"Principal Component Loadings\")\n",
    "plt.xlabel(\"PC1: \" + \"{0:.2f}\".format(pca.explained_variance_ratio_[0] * 100)+\"%\")\n",
    "plt.ylabel(\"PC2: \" + \"{0:.2f}\".format(pca.explained_variance_ratio_[1] * 100)+\"%\")\n",
    "\n",
    "# Iterate through the vocab and plot where it falls on loadings graph\n",
    "# numpy array the loadings info is held in is in the opposite format of the\n",
    "# pca information\n",
    "for i, txt in enumerate(vocab):\n",
    "    plt.annotate(txt, (loadings[0, i], loadings[1, i]), horizontalalignment='center',\n",
    "                 verticalalignment='center', size=8)\n",
    "    \n",
    "plt.show()"
   ]
  },
  {
   "cell_type": "code",
   "execution_count": null,
   "metadata": {
    "collapsed": true
   },
   "outputs": [],
   "source": []
  }
 ],
 "metadata": {
  "kernelspec": {
   "display_name": "Python 3",
   "language": "python",
   "name": "python3"
  },
  "language_info": {
   "codemirror_mode": {
    "name": "ipython",
    "version": 3
   },
   "file_extension": ".py",
   "mimetype": "text/x-python",
   "name": "python",
   "nbconvert_exporter": "python",
   "pygments_lexer": "ipython3",
   "version": "3.5.1"
  }
 },
 "nbformat": 4,
 "nbformat_minor": 0
}
